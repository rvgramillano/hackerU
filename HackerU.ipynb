{
 "cells": [
  {
   "cell_type": "markdown",
   "id": "numeric-electricity",
   "metadata": {},
   "source": [
    "## Data Cleansing and exploratory analysis"
   ]
  },
  {
   "cell_type": "code",
   "execution_count": 2,
   "id": "superior-reputation",
   "metadata": {},
   "outputs": [],
   "source": [
    "import pandas as pd\n",
    "import numpy as np\n",
    "import seaborn as sns\n",
    "import matplotlib.pyplot as plt"
   ]
  },
  {
   "cell_type": "code",
   "execution_count": 3,
   "id": "finished-oakland",
   "metadata": {},
   "outputs": [
    {
     "name": "stderr",
     "output_type": "stream",
     "text": [
      "c:\\users\\rvgra\\appdata\\local\\programs\\python\\python36\\lib\\site-packages\\ipykernel_launcher.py:6: ParserWarning: Falling back to the 'python' engine because the 'c' engine does not support regex separators (separators > 1 char and different from '\\s+' are interpreted as regex); you can avoid this warning by specifying engine='python'.\n",
      "  \n"
     ]
    },
    {
     "name": "stdout",
     "output_type": "stream",
     "text": [
      "   age         workclass  fnlwgt  education  education-num  \\\n",
      "0   39         State-gov   77516  Bachelors             13   \n",
      "1   50  Self-emp-not-inc   83311  Bachelors             13   \n",
      "2   38           Private  215646    HS-grad              9   \n",
      "3   53           Private  234721       11th              7   \n",
      "4   28           Private  338409  Bachelors             13   \n",
      "\n",
      "       marital-status         occupation   relationship   race     sex  \\\n",
      "0       Never-married       Adm-clerical  Not-in-family  White    Male   \n",
      "1  Married-civ-spouse    Exec-managerial        Husband  White    Male   \n",
      "2            Divorced  Handlers-cleaners  Not-in-family  White    Male   \n",
      "3  Married-civ-spouse  Handlers-cleaners        Husband  Black    Male   \n",
      "4  Married-civ-spouse     Prof-specialty           Wife  Black  Female   \n",
      "\n",
      "   capital-gain  capital-loss  hours-per-week native-country income_level  \n",
      "0          2174             0              40  United-States        <=50K  \n",
      "1             0             0              13  United-States        <=50K  \n",
      "2             0             0              40  United-States        <=50K  \n",
      "3             0             0              40  United-States        <=50K  \n",
      "4             0             0              40           Cuba        <=50K  \n"
     ]
    },
    {
     "data": {
      "text/plain": [
       "(32561, 15)"
      ]
     },
     "execution_count": 3,
     "metadata": {},
     "output_type": "execute_result"
    }
   ],
   "source": [
    "WORK_DIR = 'C:/Users/rvgra/Documents/HackerU/'\n",
    "df = pd.read_csv(WORK_DIR + 'adult.data', delimiter = ', ', names = ['age','workclass','fnlwgt',\n",
    "                                                                     'education','education-num','marital-status','occupation','relationship',\n",
    "                                                                     'race','sex','capital-gain',\n",
    "                                                                     'capital-loss','hours-per-week','native-country',\n",
    "                                                                     'income_level'])\n",
    "print(df.head())\n",
    "df.shape"
   ]
  },
  {
   "cell_type": "code",
   "execution_count": 4,
   "id": "juvenile-screen",
   "metadata": {},
   "outputs": [
    {
     "name": "stdout",
     "output_type": "stream",
     "text": [
      "   age         workclass  education  education-num      marital-status  \\\n",
      "0   39         State-gov  Bachelors             13       Never-married   \n",
      "1   50  Self-emp-not-inc  Bachelors             13  Married-civ-spouse   \n",
      "2   38           Private    HS-grad              9            Divorced   \n",
      "3   53           Private       11th              7  Married-civ-spouse   \n",
      "4   28           Private  Bachelors             13  Married-civ-spouse   \n",
      "\n",
      "          occupation   relationship   race     sex  capital-gain  \\\n",
      "0       Adm-clerical  Not-in-family  White    Male          2174   \n",
      "1    Exec-managerial        Husband  White    Male             0   \n",
      "2  Handlers-cleaners  Not-in-family  White    Male             0   \n",
      "3  Handlers-cleaners        Husband  Black    Male             0   \n",
      "4     Prof-specialty           Wife  Black  Female             0   \n",
      "\n",
      "   capital-loss  hours-per-week native-country income_level  \n",
      "0             0              40  United-States        <=50K  \n",
      "1             0              13  United-States        <=50K  \n",
      "2             0              40  United-States        <=50K  \n",
      "3             0              40  United-States        <=50K  \n",
      "4             0              40           Cuba        <=50K  \n"
     ]
    },
    {
     "data": {
      "text/plain": [
       "(32561, 14)"
      ]
     },
     "execution_count": 4,
     "metadata": {},
     "output_type": "execute_result"
    }
   ],
   "source": [
    "# fnlwgt is a column used in a different analysis using this data. Let's drop it\n",
    "df.drop('fnlwgt',axis=1,inplace=True)\n",
    "print(df.head())\n",
    "df.shape"
   ]
  },
  {
   "cell_type": "code",
   "execution_count": 5,
   "id": "organizational-covering",
   "metadata": {},
   "outputs": [
    {
     "data": {
      "text/html": [
       "<div>\n",
       "<style scoped>\n",
       "    .dataframe tbody tr th:only-of-type {\n",
       "        vertical-align: middle;\n",
       "    }\n",
       "\n",
       "    .dataframe tbody tr th {\n",
       "        vertical-align: top;\n",
       "    }\n",
       "\n",
       "    .dataframe thead th {\n",
       "        text-align: right;\n",
       "    }\n",
       "</style>\n",
       "<table border=\"1\" class=\"dataframe\">\n",
       "  <thead>\n",
       "    <tr style=\"text-align: right;\">\n",
       "      <th></th>\n",
       "      <th>age</th>\n",
       "      <th>education-num</th>\n",
       "      <th>capital-gain</th>\n",
       "      <th>capital-loss</th>\n",
       "      <th>hours-per-week</th>\n",
       "    </tr>\n",
       "  </thead>\n",
       "  <tbody>\n",
       "    <tr>\n",
       "      <th>count</th>\n",
       "      <td>32561.000000</td>\n",
       "      <td>32561.000000</td>\n",
       "      <td>32561.000000</td>\n",
       "      <td>32561.000000</td>\n",
       "      <td>32561.000000</td>\n",
       "    </tr>\n",
       "    <tr>\n",
       "      <th>mean</th>\n",
       "      <td>38.581647</td>\n",
       "      <td>10.080679</td>\n",
       "      <td>1077.648844</td>\n",
       "      <td>87.303830</td>\n",
       "      <td>40.437456</td>\n",
       "    </tr>\n",
       "    <tr>\n",
       "      <th>std</th>\n",
       "      <td>13.640433</td>\n",
       "      <td>2.572720</td>\n",
       "      <td>7385.292085</td>\n",
       "      <td>402.960219</td>\n",
       "      <td>12.347429</td>\n",
       "    </tr>\n",
       "    <tr>\n",
       "      <th>min</th>\n",
       "      <td>17.000000</td>\n",
       "      <td>1.000000</td>\n",
       "      <td>0.000000</td>\n",
       "      <td>0.000000</td>\n",
       "      <td>1.000000</td>\n",
       "    </tr>\n",
       "    <tr>\n",
       "      <th>25%</th>\n",
       "      <td>28.000000</td>\n",
       "      <td>9.000000</td>\n",
       "      <td>0.000000</td>\n",
       "      <td>0.000000</td>\n",
       "      <td>40.000000</td>\n",
       "    </tr>\n",
       "    <tr>\n",
       "      <th>50%</th>\n",
       "      <td>37.000000</td>\n",
       "      <td>10.000000</td>\n",
       "      <td>0.000000</td>\n",
       "      <td>0.000000</td>\n",
       "      <td>40.000000</td>\n",
       "    </tr>\n",
       "    <tr>\n",
       "      <th>75%</th>\n",
       "      <td>48.000000</td>\n",
       "      <td>12.000000</td>\n",
       "      <td>0.000000</td>\n",
       "      <td>0.000000</td>\n",
       "      <td>45.000000</td>\n",
       "    </tr>\n",
       "    <tr>\n",
       "      <th>max</th>\n",
       "      <td>90.000000</td>\n",
       "      <td>16.000000</td>\n",
       "      <td>99999.000000</td>\n",
       "      <td>4356.000000</td>\n",
       "      <td>99.000000</td>\n",
       "    </tr>\n",
       "  </tbody>\n",
       "</table>\n",
       "</div>"
      ],
      "text/plain": [
       "                age  education-num  capital-gain  capital-loss  hours-per-week\n",
       "count  32561.000000   32561.000000  32561.000000  32561.000000    32561.000000\n",
       "mean      38.581647      10.080679   1077.648844     87.303830       40.437456\n",
       "std       13.640433       2.572720   7385.292085    402.960219       12.347429\n",
       "min       17.000000       1.000000      0.000000      0.000000        1.000000\n",
       "25%       28.000000       9.000000      0.000000      0.000000       40.000000\n",
       "50%       37.000000      10.000000      0.000000      0.000000       40.000000\n",
       "75%       48.000000      12.000000      0.000000      0.000000       45.000000\n",
       "max       90.000000      16.000000  99999.000000   4356.000000       99.000000"
      ]
     },
     "execution_count": 5,
     "metadata": {},
     "output_type": "execute_result"
    }
   ],
   "source": [
    "# for our continuous features, lets look at some general summary statistics\n",
    "df.describe()"
   ]
  },
  {
   "cell_type": "code",
   "execution_count": 6,
   "id": "compliant-rover",
   "metadata": {},
   "outputs": [
    {
     "data": {
      "text/plain": [
       "<matplotlib.axes._subplots.AxesSubplot at 0x2b20a447828>"
      ]
     },
     "execution_count": 6,
     "metadata": {},
     "output_type": "execute_result"
    },
    {
     "data": {
      "image/png": "[encoded data removed]",
      "text/plain": [
       "<Figure size 432x288 with 1 Axes>"
      ]
     },
     "metadata": {
      "needs_background": "light"
     },
     "output_type": "display_data"
    }
   ],
   "source": [
    "# we see a few signs of outliers for capital gain and capital loss because 1) mean far from median (50%) and 2) std >> than mean\n",
    "# let's make a histogram and see if we can visualize the outlier point\n",
    "\n",
    "sns.histplot(df['capital-gain'])\n"
   ]
  },
  {
   "cell_type": "code",
   "execution_count": 7,
   "id": "given-thanks",
   "metadata": {},
   "outputs": [
    {
     "data": {
      "text/plain": [
       "count     2712.000000\n",
       "mean     12938.541298\n",
       "std      22395.413530\n",
       "min        114.000000\n",
       "25%       3411.000000\n",
       "50%       7298.000000\n",
       "75%      14084.000000\n",
       "max      99999.000000\n",
       "Name: capital-gain, dtype: float64"
      ]
     },
     "execution_count": 7,
     "metadata": {},
     "output_type": "execute_result"
    }
   ],
   "source": [
    "# We see that our summary statistics are dominated by people with zero capital gain. \n",
    "# Let's look at the statis without the zeros\n",
    "df[df['capital-gain']!=0]['capital-gain'].describe()"
   ]
  },
  {
   "cell_type": "code",
   "execution_count": 8,
   "id": "assisted-comfort",
   "metadata": {},
   "outputs": [
    {
     "data": {
      "text/plain": [
       "<matplotlib.axes._subplots.AxesSubplot at 0x2b20a4922e8>"
      ]
     },
     "execution_count": 8,
     "metadata": {},
     "output_type": "execute_result"
    },
    {
     "data": {
      "image/png": "[encoded data removed]",
      "text/plain": [
       "<Figure size 432x288 with 1 Axes>"
      ]
     },
     "metadata": {
      "needs_background": "light"
     },
     "output_type": "display_data"
    }
   ],
   "source": [
    "# still some signs of outliers, but we can see only 2712/32561 ~ 8% of observations have nonzero capital gain Let's look at the ecdf without the zeros on a log scale\n",
    "sns.ecdfplot(np.log10(df[df['capital-gain']!=0]['capital-gain']))"
   ]
  },
  {
   "cell_type": "code",
   "execution_count": 9,
   "id": "geographic-novel",
   "metadata": {},
   "outputs": [
    {
     "name": "stdout",
     "output_type": "stream",
     "text": [
      "count    1942.000000\n",
      "mean     4863.661689\n",
      "std      2296.376095\n",
      "min       114.000000\n",
      "25%      3103.000000\n",
      "50%      4508.000000\n",
      "75%      7298.000000\n",
      "max      9562.000000\n",
      "Name: capital-gain, dtype: float64\n",
      "(32561, 14)\n"
     ]
    }
   ],
   "source": [
    "# we see we retain ~90% of the nonzero observations at $10000. let's make our cut there and reexamine the stats\n",
    "print(df[(df['capital-gain']!=0) & (df['capital-gain']<=10000)]['capital-gain'].describe())\n",
    "print(df.shape)"
   ]
  },
  {
   "cell_type": "code",
   "execution_count": 10,
   "id": "typical-scottish",
   "metadata": {},
   "outputs": [
    {
     "name": "stdout",
     "output_type": "stream",
     "text": [
      "(31791, 14)\n"
     ]
    }
   ],
   "source": [
    "# looking good, and we lost only (2712 - 1942) / 32561 = 2.3% of observations\n",
    "# let's apply the cut and do a similar analysis for 'capital-loss'\n",
    "df = df[df['capital-gain']<=10000].reset_index(drop=True)\n",
    "print(df.shape)"
   ]
  },
  {
   "cell_type": "code",
   "execution_count": 11,
   "id": "nominated-ordering",
   "metadata": {},
   "outputs": [
    {
     "name": "stdout",
     "output_type": "stream",
     "text": [
      "count    1519.000000\n",
      "mean     1871.428571\n",
      "std       376.571535\n",
      "min       155.000000\n",
      "25%      1672.000000\n",
      "50%      1887.000000\n",
      "75%      1977.000000\n",
      "max      4356.000000\n",
      "Name: capital-loss, dtype: float64\n"
     ]
    },
    {
     "data": {
      "text/plain": [
       "<matplotlib.axes._subplots.AxesSubplot at 0x2b20c1af8d0>"
      ]
     },
     "execution_count": 11,
     "metadata": {},
     "output_type": "execute_result"
    },
    {
     "data": {
      "image/png": "[encoded data removed]",
      "text/plain": [
       "<Figure size 432x288 with 1 Axes>"
      ]
     },
     "metadata": {
      "needs_background": "light"
     },
     "output_type": "display_data"
    }
   ],
   "source": [
    "print(df[df['capital-loss']!=0]['capital-loss'].describe())\n",
    "sns.ecdfplot(np.log10(df[df['capital-loss']!=0]['capital-loss']))"
   ]
  },
  {
   "cell_type": "code",
   "execution_count": 12,
   "id": "parallel-standard",
   "metadata": {},
   "outputs": [],
   "source": [
    "# the capital loss summary statistics look okay without the zeros. Let's keep all observations"
   ]
  },
  {
   "cell_type": "code",
   "execution_count": 13,
   "id": "living-racing",
   "metadata": {},
   "outputs": [
    {
     "name": "stdout",
     "output_type": "stream",
     "text": [
      "age               0\n",
      "workclass         0\n",
      "education         0\n",
      "education-num     0\n",
      "marital-status    0\n",
      "occupation        0\n",
      "relationship      0\n",
      "race              0\n",
      "sex               0\n",
      "capital-gain      0\n",
      "capital-loss      0\n",
      "hours-per-week    0\n",
      "native-country    0\n",
      "income_level      0\n",
      "dtype: int64\n",
      "<class 'pandas.core.frame.DataFrame'>\n",
      "RangeIndex: 31791 entries, 0 to 31790\n",
      "Data columns (total 14 columns):\n",
      " #   Column          Non-Null Count  Dtype \n",
      "---  ------          --------------  ----- \n",
      " 0   age             31791 non-null  int64 \n",
      " 1   workclass       31791 non-null  object\n",
      " 2   education       31791 non-null  object\n",
      " 3   education-num   31791 non-null  int64 \n",
      " 4   marital-status  31791 non-null  object\n",
      " 5   occupation      31791 non-null  object\n",
      " 6   relationship    31791 non-null  object\n",
      " 7   race            31791 non-null  object\n",
      " 8   sex             31791 non-null  object\n",
      " 9   capital-gain    31791 non-null  int64 \n",
      " 10  capital-loss    31791 non-null  int64 \n",
      " 11  hours-per-week  31791 non-null  int64 \n",
      " 12  native-country  31791 non-null  object\n",
      " 13  income_level    31791 non-null  object\n",
      "dtypes: int64(5), object(9)\n",
      "memory usage: 3.4+ MB\n",
      "None\n"
     ]
    }
   ],
   "source": [
    "# check for obvious NANs and nulls\n",
    "print(df.isna().sum())\n",
    "print(df.info())\n"
   ]
  },
  {
   "cell_type": "code",
   "execution_count": 14,
   "id": "lasting-means",
   "metadata": {},
   "outputs": [
    {
     "name": "stdout",
     "output_type": "stream",
     "text": [
      "Index(['age', 'workclass', 'education', 'education-num', 'marital-status',\n",
      "       'occupation', 'relationship', 'race', 'sex', 'capital-gain',\n",
      "       'capital-loss', 'hours-per-week', 'income_level'],\n",
      "      dtype='object')\n"
     ]
    }
   ],
   "source": [
    "# drop native country\n",
    "df.drop('native-country', axis=1, inplace=True)\n",
    "print(df.columns)"
   ]
  },
  {
   "cell_type": "code",
   "execution_count": 15,
   "id": "continuous-combining",
   "metadata": {},
   "outputs": [
    {
     "name": "stdout",
     "output_type": "stream",
     "text": [
      "  income_level  if_50\n",
      "0        <=50K      0\n",
      "1        <=50K      0\n",
      "2        <=50K      0\n",
      "3        <=50K      0\n",
      "4        <=50K      0\n"
     ]
    }
   ],
   "source": [
    "# engineer y-variable feature\n",
    "df['if_50'] = np.where(df['income_level']=='<=50K', 0, 1)\n",
    "print(df[['income_level','if_50']].head())"
   ]
  },
  {
   "cell_type": "code",
   "execution_count": 16,
   "id": "industrial-reference",
   "metadata": {},
   "outputs": [
    {
     "name": "stdout",
     "output_type": "stream",
     "text": [
      "Private             22238\n",
      "Self-emp-not-inc     2447\n",
      "Local-gov            2060\n",
      "?                    1815\n",
      "State-gov            1273\n",
      "Self-emp-inc          997\n",
      "Federal-gov           940\n",
      "Without-pay            14\n",
      "Never-worked            7\n",
      "Name: workclass, dtype: int64\n",
      "\n",
      "\n",
      "Married-civ-spouse       14439\n",
      "Never-married            10570\n",
      "Divorced                  4359\n",
      "Separated                 1013\n",
      "Widowed                    976\n",
      "Married-spouse-absent      411\n",
      "Married-AF-spouse           23\n",
      "Name: marital-status, dtype: int64\n",
      "\n",
      "\n",
      "Craft-repair         4053\n",
      "Prof-specialty       3891\n",
      "Exec-managerial      3816\n",
      "Adm-clerical         3741\n",
      "Sales                3546\n",
      "Other-service        3289\n",
      "Machine-op-inspct    1998\n",
      "?                    1822\n",
      "Transport-moving     1579\n",
      "Handlers-cleaners    1368\n",
      "Farming-fishing       978\n",
      "Tech-support          914\n",
      "Protective-serv       639\n",
      "Priv-house-serv       148\n",
      "Armed-Forces            9\n",
      "Name: occupation, dtype: int64\n",
      "\n",
      "\n",
      "Husband           12716\n",
      "Not-in-family      8124\n",
      "Own-child          5053\n",
      "Unmarried          3415\n",
      "Wife               1510\n",
      "Other-relative      973\n",
      "Name: relationship, dtype: int64\n",
      "\n",
      "\n",
      "White                 27127\n",
      "Black                  3079\n",
      "Asian-Pac-Islander     1012\n",
      "Amer-Indian-Eskimo      304\n",
      "Other                   269\n",
      "Name: race, dtype: int64\n",
      "\n",
      "\n",
      "Male      21161\n",
      "Female    10630\n",
      "Name: sex, dtype: int64\n",
      "\n",
      "\n"
     ]
    }
   ],
   "source": [
    "# for categorical variables, let's do value counts and see if we spot anything\n",
    "X_cat = ['workclass','marital-status','occupation','relationship','race','sex']\n",
    "for cur_x in X_cat:\n",
    "    print(df[cur_x].value_counts())\n",
    "    print('\\n')"
   ]
  },
  {
   "cell_type": "code",
   "execution_count": 17,
   "id": "warming-invasion",
   "metadata": {},
   "outputs": [
    {
     "name": "stdout",
     "output_type": "stream",
     "text": [
      "29969\n",
      "31791\n"
     ]
    }
   ],
   "source": [
    "# we see the ? represents null values. let's remove all rows with that\n",
    "df_cut = df.replace({'?':np.nan})\n",
    "df_cut.dropna(inplace=True)\n",
    "print(df_cut.shape[0])\n",
    "print(df.shape[0])"
   ]
  },
  {
   "cell_type": "code",
   "execution_count": 18,
   "id": "great-northwest",
   "metadata": {},
   "outputs": [
    {
     "name": "stdout",
     "output_type": "stream",
     "text": [
      "(29969, 14)\n"
     ]
    }
   ],
   "source": [
    "# we lost (31791-29969) / 31791: ~5.7% of observations\n",
    "df = df_cut.copy()\n",
    "print(df.shape)"
   ]
  },
  {
   "cell_type": "code",
   "execution_count": 19,
   "id": "ready-thumb",
   "metadata": {},
   "outputs": [
    {
     "name": "stdout",
     "output_type": "stream",
     "text": [
      "Private             22238\n",
      "Self-emp-not-inc     2447\n",
      "Local-gov            2060\n",
      "State-gov            1273\n",
      "Self-emp-inc          997\n",
      "Federal-gov           940\n",
      "Without-pay            14\n",
      "Name: workclass, dtype: int64\n",
      "\n",
      "\n",
      "Married-civ-spouse       13815\n",
      "Never-married             9804\n",
      "Divorced                  4175\n",
      "Separated                  947\n",
      "Widowed                    825\n",
      "Married-spouse-absent      382\n",
      "Married-AF-spouse           21\n",
      "Name: marital-status, dtype: int64\n",
      "\n",
      "\n",
      "Craft-repair         4053\n",
      "Prof-specialty       3891\n",
      "Exec-managerial      3816\n",
      "Adm-clerical         3741\n",
      "Sales                3546\n",
      "Other-service        3289\n",
      "Machine-op-inspct    1998\n",
      "Transport-moving     1579\n",
      "Handlers-cleaners    1368\n",
      "Farming-fishing       978\n",
      "Tech-support          914\n",
      "Protective-serv       639\n",
      "Priv-house-serv       148\n",
      "Armed-Forces            9\n",
      "Name: occupation, dtype: int64\n",
      "\n",
      "\n",
      "Husband           12237\n",
      "Not-in-family      7689\n",
      "Own-child          4511\n",
      "Unmarried          3241\n",
      "Wife               1379\n",
      "Other-relative      912\n",
      "Name: relationship, dtype: int64\n",
      "\n",
      "\n",
      "White                 25630\n",
      "Black                  2866\n",
      "Asian-Pac-Islander      948\n",
      "Amer-Indian-Eskimo      279\n",
      "Other                   246\n",
      "Name: race, dtype: int64\n",
      "\n",
      "\n",
      "Male      20173\n",
      "Female     9796\n",
      "Name: sex, dtype: int64\n",
      "\n",
      "\n"
     ]
    }
   ],
   "source": [
    "for cur_x in X_cat:\n",
    "    print(df[cur_x].value_counts())\n",
    "    print('\\n')"
   ]
  },
  {
   "cell_type": "markdown",
   "id": "lightweight-nowhere",
   "metadata": {},
   "source": [
    "#### The most challenging part of this dataset is the number of categories in these datasets. Let's try to find some natural groupings\n",
    "1. workclass: {Self-emp-not-inc, Self-emp-inc} -> Self-emp\n",
    "2. marital-status: {Married-civ-spouse, Married-spouse-absent, Married-AF-spouse} -> Married\n",
    "\n",
    "Let's not make too many assumptions besides these\n",
    "Now let's make these groupings and use one-hot enconding to change these categorical values to numeric"
   ]
  },
  {
   "cell_type": "code",
   "execution_count": 20,
   "id": "handled-commander",
   "metadata": {},
   "outputs": [
    {
     "name": "stdout",
     "output_type": "stream",
     "text": [
      "Private        22238\n",
      "Self-emp        3444\n",
      "Local-gov       2060\n",
      "State-gov       1273\n",
      "Federal-gov      940\n",
      "Without-pay       14\n",
      "Name: workclass, dtype: int64\n"
     ]
    }
   ],
   "source": [
    "df.replace({'Self-emp-not-inc':'Self-emp', 'Self-emp-inc':'Self-emp'}, inplace=True)\n",
    "print(df['workclass'].value_counts())"
   ]
  },
  {
   "cell_type": "code",
   "execution_count": 21,
   "id": "surrounded-scratch",
   "metadata": {},
   "outputs": [
    {
     "name": "stdout",
     "output_type": "stream",
     "text": [
      "Married          14218\n",
      "Never-married     9804\n",
      "Divorced          4175\n",
      "Separated          947\n",
      "Widowed            825\n",
      "Name: marital-status, dtype: int64\n"
     ]
    }
   ],
   "source": [
    "df.replace({'Married-civ-spouse':'Married', 'Married-spouse-absent':'Married', 'Married-AF-spouse':'Married'}, inplace=True)\n",
    "print(df['marital-status'].value_counts())"
   ]
  },
  {
   "cell_type": "code",
   "execution_count": 22,
   "id": "awful-intersection",
   "metadata": {},
   "outputs": [
    {
     "name": "stdout",
     "output_type": "stream",
     "text": [
      "0    1\n",
      "1    1\n",
      "2    1\n",
      "3    1\n",
      "4    0\n",
      "Name: sex, dtype: int64\n"
     ]
    }
   ],
   "source": [
    "# convert categorical to numeric\n",
    "df.replace({'Male':1,'Female':0},inplace=True)\n",
    "print(df.sex.head())"
   ]
  },
  {
   "cell_type": "code",
   "execution_count": 23,
   "id": "significant-donna",
   "metadata": {},
   "outputs": [],
   "source": [
    "# one hot encoding\n",
    "df_dummies = pd.get_dummies(df[['workclass','marital-status','race','occupation','relationship']])"
   ]
  },
  {
   "cell_type": "code",
   "execution_count": 24,
   "id": "hundred-prototype",
   "metadata": {},
   "outputs": [
    {
     "name": "stdout",
     "output_type": "stream",
     "text": [
      "Index(['workclass_Federal-gov', 'workclass_Local-gov', 'workclass_Private',\n",
      "       'workclass_Self-emp', 'workclass_State-gov', 'workclass_Without-pay',\n",
      "       'marital-status_Divorced', 'marital-status_Married',\n",
      "       'marital-status_Never-married', 'marital-status_Separated',\n",
      "       'marital-status_Widowed', 'race_Amer-Indian-Eskimo',\n",
      "       'race_Asian-Pac-Islander', 'race_Black', 'race_Other', 'race_White',\n",
      "       'occupation_Adm-clerical', 'occupation_Armed-Forces',\n",
      "       'occupation_Craft-repair', 'occupation_Exec-managerial',\n",
      "       'occupation_Farming-fishing', 'occupation_Handlers-cleaners',\n",
      "       'occupation_Machine-op-inspct', 'occupation_Other-service',\n",
      "       'occupation_Priv-house-serv', 'occupation_Prof-specialty',\n",
      "       'occupation_Protective-serv', 'occupation_Sales',\n",
      "       'occupation_Tech-support', 'occupation_Transport-moving',\n",
      "       'relationship_Husband', 'relationship_Not-in-family',\n",
      "       'relationship_Other-relative', 'relationship_Own-child',\n",
      "       'relationship_Unmarried', 'relationship_Wife'],\n",
      "      dtype='object')\n",
      "Index(['workclass_Federal-gov', 'workclass_Local-gov', 'workclass_Private',\n",
      "       'workclass_Self-emp', 'workclass_State-gov', 'marital-status_Divorced',\n",
      "       'marital-status_Married', 'marital-status_Never-married',\n",
      "       'marital-status_Separated', 'race_Amer-Indian-Eskimo',\n",
      "       'race_Asian-Pac-Islander', 'race_Black', 'race_White',\n",
      "       'occupation_Adm-clerical', 'occupation_Craft-repair',\n",
      "       'occupation_Exec-managerial', 'occupation_Farming-fishing',\n",
      "       'occupation_Handlers-cleaners', 'occupation_Machine-op-inspct',\n",
      "       'occupation_Other-service', 'occupation_Priv-house-serv',\n",
      "       'occupation_Prof-specialty', 'occupation_Protective-serv',\n",
      "       'occupation_Sales', 'occupation_Tech-support',\n",
      "       'occupation_Transport-moving', 'relationship_Husband',\n",
      "       'relationship_Not-in-family', 'relationship_Own-child',\n",
      "       'relationship_Unmarried', 'relationship_Wife'],\n",
      "      dtype='object')\n"
     ]
    }
   ],
   "source": [
    "print(df_dummies.columns)\n",
    "# let's drop the least frequent class to avoid linear independence issues\n",
    "df_dummies.drop(['workclass_Without-pay','marital-status_Widowed','race_Other','occupation_Armed-Forces','relationship_Other-relative'],axis=1,inplace=True)\n",
    "print(df_dummies.columns)"
   ]
  },
  {
   "cell_type": "code",
   "execution_count": 25,
   "id": "superb-encyclopedia",
   "metadata": {},
   "outputs": [
    {
     "name": "stdout",
     "output_type": "stream",
     "text": [
      "(29969, 14)\n",
      "(29969, 31)\n",
      "(29969, 45)\n"
     ]
    }
   ],
   "source": [
    "# let's combine our dummy dataframe with the original\n",
    "print(df.shape)\n",
    "print(df_dummies.shape)\n",
    "\n",
    "\n",
    "df_tot = pd.concat([df, df_dummies],axis=1).reset_index(drop=True)\n",
    "print(df_tot.shape)"
   ]
  },
  {
   "cell_type": "code",
   "execution_count": 26,
   "id": "subjective-passing",
   "metadata": {},
   "outputs": [
    {
     "name": "stdout",
     "output_type": "stream",
     "text": [
      "       education  num\n",
      "13     Preschool    1\n",
      "15       1st-4th    2\n",
      "11       5th-6th    3\n",
      "8        7th-8th    4\n",
      "4            9th    5\n",
      "12          10th    6\n",
      "2           11th    7\n",
      "14          12th    8\n",
      "1        HS-grad    9\n",
      "5   Some-college   10\n",
      "7      Assoc-voc   11\n",
      "6     Assoc-acdm   12\n",
      "0      Bachelors   13\n",
      "3        Masters   14\n",
      "10   Prof-school   15\n",
      "9      Doctorate   16\n"
     ]
    }
   ],
   "source": [
    "# lets check education num working as expected\n",
    "print(pd.DataFrame({'education':df_tot.education.unique(),'num':df_tot['education-num'].unique()}).sort_values('num'))"
   ]
  },
  {
   "cell_type": "code",
   "execution_count": 27,
   "id": "accredited-upper",
   "metadata": {},
   "outputs": [
    {
     "name": "stdout",
     "output_type": "stream",
     "text": [
      "['workclass_Federal-gov', 'workclass_Local-gov', 'workclass_Private', 'workclass_Self-emp', 'workclass_State-gov']\n",
      "['marital-status_Divorced', 'marital-status_Married', 'marital-status_Never-married', 'marital-status_Separated']\n",
      "['occupation_Adm-clerical', 'occupation_Craft-repair', 'occupation_Exec-managerial', 'occupation_Farming-fishing', 'occupation_Handlers-cleaners', 'occupation_Machine-op-inspct', 'occupation_Other-service', 'occupation_Priv-house-serv', 'occupation_Prof-specialty', 'occupation_Protective-serv', 'occupation_Sales', 'occupation_Tech-support', 'occupation_Transport-moving']\n",
      "['relationship_Husband', 'relationship_Not-in-family', 'relationship_Own-child', 'relationship_Unmarried', 'relationship_Wife']\n",
      "['race_Amer-Indian-Eskimo', 'race_Asian-Pac-Islander', 'race_Black', 'race_White']\n"
     ]
    }
   ],
   "source": [
    "# let's define some variable sets for later ease\n",
    "X_work = [x for x in df_tot.columns if 'workclass_' in x]\n",
    "print(X_work)\n",
    "X_marital = [x for x in df_tot.columns if 'marital-status_' in x]\n",
    "print(X_marital)\n",
    "X_occ = [x for x in df_tot.columns if 'occupation_' in x]\n",
    "print(X_occ)\n",
    "X_relation = [x for x in df_tot.columns if 'relationship_' in x]\n",
    "print(X_relation)\n",
    "X_race =  [x for x in df_tot.columns if 'race_' in x]\n",
    "print(X_race)"
   ]
  },
  {
   "cell_type": "code",
   "execution_count": 28,
   "id": "endless-feeling",
   "metadata": {},
   "outputs": [
    {
     "name": "stdout",
     "output_type": "stream",
     "text": [
      "0    23056\n",
      "1     6913\n",
      "Name: if_50, dtype: int64\n",
      "(29969, 25)\n"
     ]
    }
   ],
   "source": [
    "X_cont = ['age','education-num','sex','capital-gain','capital-loss','hours-per-week']\n",
    "X_cat = X_work + X_marital + X_relation + X_race\n",
    "X_all = X_cont + X_cat\n",
    "y_var = 'if_50'\n",
    "print(df_tot[y_var].value_counts())\n",
    "print(df_tot[X_all + [y_var]].shape)"
   ]
  },
  {
   "cell_type": "markdown",
   "id": "inappropriate-lindsay",
   "metadata": {},
   "source": [
    "* In total, we have 29,969 and 25 columns after cleaning. We thus lost (32561-29969) / 32561 ~8% observations cleaning\n",
    "* 25 -variables is somewhat high-dimensional, which makes inference tricky. \n",
    "    * We can perform some additional analysis to reduce our dimensionality\n",
    "* Also note the class imbalance--much more <=50K than above, which makes accuracy a skewed metric (guessing all zero would be right ~77% of the time)\n",
    "\n",
    "* To get a quick look at the data, let's do a logistic regression with the entire dataset\n"
   ]
  },
  {
   "cell_type": "code",
   "execution_count": 29,
   "id": "confirmed-bracelet",
   "metadata": {},
   "outputs": [
    {
     "name": "stdout",
     "output_type": "stream",
     "text": [
      "Optimization terminated successfully.\n",
      "         Current function value: 0.346388\n",
      "         Iterations 9\n"
     ]
    }
   ],
   "source": [
    "import statsmodels.api as sm\n",
    "log_reg = sm.Logit(df_tot[y_var], df_tot[X_all]).fit() "
   ]
  },
  {
   "cell_type": "code",
   "execution_count": 30,
   "id": "lucky-literature",
   "metadata": {},
   "outputs": [
    {
     "name": "stdout",
     "output_type": "stream",
     "text": [
      "                           Logit Regression Results                           \n",
      "==============================================================================\n",
      "Dep. Variable:                  if_50   No. Observations:                29969\n",
      "Model:                          Logit   Df Residuals:                    29945\n",
      "Method:                           MLE   Df Model:                           23\n",
      "Date:                Sun, 07 Mar 2021   Pseudo R-squ.:                  0.3586\n",
      "Time:                        16:25:52   Log-Likelihood:                -10381.\n",
      "converged:                       True   LL-Null:                       -16186.\n",
      "Covariance Type:            nonrobust   LLR p-value:                     0.000\n",
      "================================================================================================\n",
      "                                   coef    std err          z      P>|z|      [0.025      0.975]\n",
      "------------------------------------------------------------------------------------------------\n",
      "age                              0.0246      0.002     15.262      0.000       0.021       0.028\n",
      "education-num                    0.3512      0.008     43.947      0.000       0.336       0.367\n",
      "sex                              0.8067      0.079     10.214      0.000       0.652       0.961\n",
      "capital-gain                     0.0003   1.24e-05     24.489      0.000       0.000       0.000\n",
      "capital-loss                     0.0007   3.69e-05     17.990      0.000       0.001       0.001\n",
      "hours-per-week                   0.0291      0.002     18.244      0.000       0.026       0.032\n",
      "workclass_Federal-gov           -7.8770      0.343    -22.945      0.000      -8.550      -7.204\n",
      "workclass_Local-gov             -8.5074      0.339    -25.089      0.000      -9.172      -7.843\n",
      "workclass_Private               -8.4499      0.331    -25.513      0.000      -9.099      -7.801\n",
      "workclass_Self-emp              -8.7102      0.339    -25.720      0.000      -9.374      -8.046\n",
      "workclass_State-gov             -8.6121      0.345    -24.980      0.000      -9.288      -7.936\n",
      "marital-status_Divorced         -0.3545      0.147     -2.419      0.016      -0.642      -0.067\n",
      "marital-status_Married           0.0657      0.210      0.313      0.754      -0.345       0.477\n",
      "marital-status_Never-married    -0.9410      0.153     -6.143      0.000      -1.241      -0.641\n",
      "marital-status_Separated        -0.5137      0.203     -2.534      0.011      -0.911      -0.116\n",
      "relationship_Husband             1.1348      0.203      5.595      0.000       0.737       1.532\n",
      "relationship_Not-in-family      -0.0670      0.177     -0.379      0.705      -0.414       0.280\n",
      "relationship_Own-child          -1.2320      0.224     -5.498      0.000      -1.671      -0.793\n",
      "relationship_Unmarried          -0.2721      0.193     -1.408      0.159      -0.651       0.107\n",
      "relationship_Wife                2.3559      0.216     10.895      0.000       1.932       2.780\n",
      "race_Amer-Indian-Eskimo         -0.7134      0.320     -2.229      0.026      -1.341      -0.086\n",
      "race_Asian-Pac-Islander         -0.1978      0.242     -0.817      0.414      -0.672       0.277\n",
      "race_Black                      -0.2471      0.233     -1.062      0.288      -0.703       0.209\n",
      "race_White                       0.0153      0.222      0.069      0.945      -0.421       0.451\n",
      "================================================================================================\n"
     ]
    }
   ],
   "source": [
    "print(log_reg.summary())"
   ]
  },
  {
   "cell_type": "markdown",
   "id": "demanding-weapon",
   "metadata": {},
   "source": [
    "### Even a bad-performing logistic regression can give us some insight. Notably that the one-hot encoded variables are in general quite noisy and that the other vars scale intuitively\n",
    "* As a result, let's do some further variance reduction using PCA on the one-hot encoded variables, even if we may lose some interpretability"
   ]
  },
  {
   "cell_type": "code",
   "execution_count": 31,
   "id": "otherwise-turner",
   "metadata": {},
   "outputs": [
    {
     "name": "stdout",
     "output_type": "stream",
     "text": [
      "work\n",
      "[0.59697057 0.20340661 0.1187086 ]\n",
      "0.9190857678183731\n",
      "   pca_work_1  pca_work_2  pca_work_3\n",
      "0    0.671592    0.336817    0.882365\n",
      "1    1.017361   -0.540232   -0.115016\n",
      "2   -0.294292   -0.022948   -0.010664\n",
      "3   -0.294292   -0.022948   -0.010664\n",
      "4   -0.294292   -0.022948   -0.010664\n",
      "\n",
      "\n",
      "marital\n",
      "[0.63225682 0.28966306]\n",
      "0.9219198858049594\n",
      "   pca_marital_1  pca_marital_2\n",
      "0       0.787822      -0.275488\n",
      "1      -0.619612      -0.137870\n",
      "2       0.202175       1.009399\n",
      "3      -0.619612      -0.137870\n",
      "4      -0.619612      -0.137870\n",
      "\n",
      "\n",
      "relationship\n",
      "[0.46942774 0.27035364 0.17424264]\n",
      "0.9140240161792523\n",
      "   pca_relation_1  pca_relation_2  pca_relation_3\n",
      "0        0.719476       -0.477041       -0.093420\n",
      "1       -0.654513       -0.146363       -0.043894\n",
      "2        0.719476       -0.477041       -0.093420\n",
      "3       -0.654513       -0.146363       -0.043894\n",
      "4        0.183889        0.223480        0.165218\n",
      "\n",
      "\n",
      "race\n",
      "[0.76574251 0.17758999]\n",
      "0.9433324993506773\n",
      "   pca_race_1  pca_race_2\n",
      "0   -0.175787   -0.016685\n",
      "1   -0.175787   -0.016685\n",
      "2   -0.175787   -0.016685\n",
      "3    1.216146   -0.264197\n",
      "4    1.216146   -0.264197\n",
      "\n",
      "\n"
     ]
    }
   ],
   "source": [
    "# let's do 2 or 3 PC per column\n",
    "print('work')\n",
    "from sklearn.decomposition import PCA\n",
    "pca_work = PCA(n_components=3)\n",
    "pca_work.fit(df_tot[X_work])\n",
    "print(pca_work.explained_variance_ratio_)\n",
    "print(np.sum(pca_work.explained_variance_ratio_))\n",
    "df_work_pca = pd.DataFrame(pca_work.fit_transform(df_tot[X_work]), columns=['pca_work_1', 'pca_work_2', 'pca_work_3'])\n",
    "print(df_work_pca.head())\n",
    "print('\\n')\n",
    "\n",
    "print('marital')\n",
    "pca_marital = PCA(n_components=2)\n",
    "pca_marital.fit(df_tot[X_marital])\n",
    "print(pca_marital.explained_variance_ratio_)\n",
    "print(np.sum(pca_marital.explained_variance_ratio_))\n",
    "df_marital_pca = pd.DataFrame(pca_marital.fit_transform(df_tot[X_marital]), columns=['pca_marital_1', 'pca_marital_2'])\n",
    "print(df_marital_pca.head())\n",
    "print('\\n')\n",
    "\n",
    "print('relationship')\n",
    "pca_relation = PCA(n_components=3)\n",
    "pca_relation.fit(df_tot[X_relation])\n",
    "print(pca_relation.explained_variance_ratio_)\n",
    "print(np.sum(pca_relation.explained_variance_ratio_))\n",
    "df_relation_pca = pd.DataFrame(pca_relation.fit_transform(df_tot[X_relation]), columns=['pca_relation_1', 'pca_relation_2', 'pca_relation_3'])\n",
    "print(df_relation_pca.head())\n",
    "print('\\n')\n",
    "\n",
    "print('race')\n",
    "pca_race = PCA(n_components=2)\n",
    "pca_race.fit(df_tot[X_race])\n",
    "print(pca_race.explained_variance_ratio_)\n",
    "print(np.sum(pca_race.explained_variance_ratio_))\n",
    "df_race_pca = pd.DataFrame(pca_race.fit_transform(df_tot[X_race]), columns=['pca_race_1', 'pca_race_2'])\n",
    "print(df_race_pca.head())\n",
    "print('\\n')\n"
   ]
  },
  {
   "cell_type": "code",
   "execution_count": 32,
   "id": "verbal-spokesman",
   "metadata": {},
   "outputs": [
    {
     "name": "stdout",
     "output_type": "stream",
     "text": [
      "   pca_work_1  pca_work_2  pca_work_3  pca_marital_1  pca_marital_2  \\\n",
      "0    0.671592    0.336817    0.882365       0.787822      -0.275488   \n",
      "1    1.017361   -0.540232   -0.115016      -0.619612      -0.137870   \n",
      "2   -0.294292   -0.022948   -0.010664       0.202175       1.009399   \n",
      "3   -0.294292   -0.022948   -0.010664      -0.619612      -0.137870   \n",
      "4   -0.294292   -0.022948   -0.010664      -0.619612      -0.137870   \n",
      "\n",
      "   pca_relation_1  pca_relation_2  pca_relation_3  pca_race_1  pca_race_2  \n",
      "0        0.719476       -0.477041       -0.093420   -0.175787   -0.016685  \n",
      "1       -0.654513       -0.146363       -0.043894   -0.175787   -0.016685  \n",
      "2        0.719476       -0.477041       -0.093420   -0.175787   -0.016685  \n",
      "3       -0.654513       -0.146363       -0.043894    1.216146   -0.264197  \n",
      "4        0.183889        0.223480        0.165218    1.216146   -0.264197  \n",
      "(29969, 10)\n"
     ]
    }
   ],
   "source": [
    "df_pca = pd.concat([df_work_pca,df_marital_pca,df_relation_pca,df_race_pca],axis=1).reset_index(drop=True)\n",
    "print(df_pca.head())\n",
    "print(df_pca.shape)"
   ]
  },
  {
   "cell_type": "code",
   "execution_count": 33,
   "id": "intimate-tuning",
   "metadata": {},
   "outputs": [
    {
     "name": "stdout",
     "output_type": "stream",
     "text": [
      "(29969, 45)\n",
      "(29969, 10)\n",
      "(29969, 55)\n"
     ]
    }
   ],
   "source": [
    "print(df_tot.shape)\n",
    "print(df_pca.shape)\n",
    "df_final = pd.concat([df_tot, df_pca],axis=1)\n",
    "print(df_final.shape)"
   ]
  },
  {
   "cell_type": "code",
   "execution_count": 34,
   "id": "wrong-colon",
   "metadata": {},
   "outputs": [
    {
     "name": "stdout",
     "output_type": "stream",
     "text": [
      "Index(['age', 'workclass', 'education', 'education-num', 'marital-status',\n",
      "       'occupation', 'relationship', 'race', 'sex', 'capital-gain',\n",
      "       'capital-loss', 'hours-per-week', 'income_level', 'if_50',\n",
      "       'workclass_Federal-gov', 'workclass_Local-gov', 'workclass_Private',\n",
      "       'workclass_Self-emp', 'workclass_State-gov', 'marital-status_Divorced',\n",
      "       'marital-status_Married', 'marital-status_Never-married',\n",
      "       'marital-status_Separated', 'race_Amer-Indian-Eskimo',\n",
      "       'race_Asian-Pac-Islander', 'race_Black', 'race_White',\n",
      "       'occupation_Adm-clerical', 'occupation_Craft-repair',\n",
      "       'occupation_Exec-managerial', 'occupation_Farming-fishing',\n",
      "       'occupation_Handlers-cleaners', 'occupation_Machine-op-inspct',\n",
      "       'occupation_Other-service', 'occupation_Priv-house-serv',\n",
      "       'occupation_Prof-specialty', 'occupation_Protective-serv',\n",
      "       'occupation_Sales', 'occupation_Tech-support',\n",
      "       'occupation_Transport-moving', 'relationship_Husband',\n",
      "       'relationship_Not-in-family', 'relationship_Own-child',\n",
      "       'relationship_Unmarried', 'relationship_Wife', 'pca_work_1',\n",
      "       'pca_work_2', 'pca_work_3', 'pca_marital_1', 'pca_marital_2',\n",
      "       'pca_relation_1', 'pca_relation_2', 'pca_relation_3', 'pca_race_1',\n",
      "       'pca_race_2'],\n",
      "      dtype='object')\n"
     ]
    }
   ],
   "source": [
    "print(df_final.columns)"
   ]
  },
  {
   "cell_type": "code",
   "execution_count": 35,
   "id": "needed-performer",
   "metadata": {},
   "outputs": [
    {
     "name": "stdout",
     "output_type": "stream",
     "text": [
      "['age', 'education-num', 'sex', 'capital-gain', 'capital-loss', 'hours-per-week', 'pca_work_1', 'pca_work_2', 'pca_work_3', 'pca_marital_1', 'pca_marital_2', 'pca_relation_1', 'pca_relation_2', 'pca_relation_3', 'pca_race_1', 'pca_race_2']\n",
      "16\n"
     ]
    }
   ],
   "source": [
    "X_final = X_cont + [x for x in df_final.columns if 'pca' in x]\n",
    "print(X_final)\n",
    "print(len(X_final))"
   ]
  },
  {
   "cell_type": "code",
   "execution_count": 36,
   "id": "brief-azerbaijan",
   "metadata": {},
   "outputs": [
    {
     "name": "stdout",
     "output_type": "stream",
     "text": [
      "Optimization terminated successfully.\n",
      "         Current function value: 0.419748\n",
      "         Iterations 8\n"
     ]
    }
   ],
   "source": [
    "import statsmodels.api as sm\n",
    "log_reg = sm.Logit(df_final[y_var], df_final[X_final]).fit() "
   ]
  },
  {
   "cell_type": "code",
   "execution_count": 37,
   "id": "handled-parliament",
   "metadata": {},
   "outputs": [
    {
     "name": "stdout",
     "output_type": "stream",
     "text": [
      "                           Logit Regression Results                           \n",
      "==============================================================================\n",
      "Dep. Variable:                  if_50   No. Observations:                29969\n",
      "Model:                          Logit   Df Residuals:                    29953\n",
      "Method:                           MLE   Df Model:                           15\n",
      "Date:                Sun, 07 Mar 2021   Pseudo R-squ.:                  0.2228\n",
      "Time:                        16:26:16   Log-Likelihood:                -12579.\n",
      "converged:                       True   LL-Null:                       -16186.\n",
      "Covariance Type:            nonrobust   LLR p-value:                     0.000\n",
      "==================================================================================\n",
      "                     coef    std err          z      P>|z|      [0.025      0.975]\n",
      "----------------------------------------------------------------------------------\n",
      "age               -0.0289      0.001    -24.215      0.000      -0.031      -0.027\n",
      "education-num      0.0867      0.005     16.176      0.000       0.076       0.097\n",
      "sex               -1.1189      0.062    -18.009      0.000      -1.241      -0.997\n",
      "capital-gain       0.0003   1.16e-05     25.939      0.000       0.000       0.000\n",
      "capital-loss       0.0007   3.38e-05     21.271      0.000       0.001       0.001\n",
      "hours-per-week    -0.0201      0.001    -15.735      0.000      -0.023      -0.018\n",
      "pca_work_1         0.3056      0.029     10.388      0.000       0.248       0.363\n",
      "pca_work_2         0.0706      0.050      1.424      0.155      -0.027       0.168\n",
      "pca_work_3         0.0920      0.066      1.401      0.161      -0.037       0.221\n",
      "pca_marital_1     -1.5292      0.058    -26.208      0.000      -1.644      -1.415\n",
      "pca_marital_2     -0.0621      0.056     -1.111      0.266      -0.172       0.047\n",
      "pca_relation_1    -1.1264      0.071    -15.948      0.000      -1.265      -0.988\n",
      "pca_relation_2    -1.4299      0.066    -21.542      0.000      -1.560      -1.300\n",
      "pca_relation_3    -0.0319      0.078     -0.407      0.684      -0.186       0.122\n",
      "pca_race_1        -0.3094      0.043     -7.264      0.000      -0.393      -0.226\n",
      "pca_race_2         0.1292      0.077      1.676      0.094      -0.022       0.280\n",
      "==================================================================================\n"
     ]
    }
   ],
   "source": [
    "print(log_reg.summary())"
   ]
  },
  {
   "cell_type": "markdown",
   "id": "straight-faith",
   "metadata": {},
   "source": [
    "#### Now the standard errors per variable have been reduced and all are around the same order of magnitude"
   ]
  },
  {
   "cell_type": "markdown",
   "id": "ahead-raising",
   "metadata": {},
   "source": [
    "# Predictive Model"
   ]
  },
  {
   "cell_type": "code",
   "execution_count": 38,
   "id": "progressive-sunrise",
   "metadata": {},
   "outputs": [],
   "source": [
    "from sklearn.ensemble import RandomForestClassifier\n",
    "from sklearn.model_selection import train_test_split\n",
    "from sklearn.metrics import classification_report\n",
    "from sklearn.metrics import roc_auc_score\n",
    "from sklearn.linear_model import LogisticRegression\n",
    "from sklearn.metrics import plot_roc_curve"
   ]
  },
  {
   "cell_type": "markdown",
   "id": "square-bridges",
   "metadata": {},
   "source": [
    "## Random Forest"
   ]
  },
  {
   "cell_type": "code",
   "execution_count": 40,
   "id": "closing-active",
   "metadata": {},
   "outputs": [
    {
     "name": "stdout",
     "output_type": "stream",
     "text": [
      "(29969, 16) (29969,)\n",
      "(19979, 16) (9990, 16)\n"
     ]
    }
   ],
   "source": [
    "X_model, y_model = df_final[X_final], df_final[y_var]\n",
    "print(X_model.shape, y_model.shape)\n",
    "X_train, X_test, y_train, y_test = train_test_split(X_model, y_model,\n",
    "                                                stratify=y_model, \n",
    "                                                test_size=1/3)\n",
    "print(X_train.shape, X_test.shape)\n",
    "rf = RandomForestClassifier(n_estimators = 10000, max_depth=8, min_samples_leaf=80, verbose=1)"
   ]
  },
  {
   "cell_type": "code",
   "execution_count": 41,
   "id": "excess-boxing",
   "metadata": {},
   "outputs": [
    {
     "name": "stderr",
     "output_type": "stream",
     "text": [
      "[Parallel(n_jobs=1)]: Using backend SequentialBackend with 1 concurrent workers.\n",
      "[Parallel(n_jobs=1)]: Done 10000 out of 10000 | elapsed:   49.2s finished\n"
     ]
    },
    {
     "data": {
      "text/plain": [
       "RandomForestClassifier(max_depth=8, min_samples_leaf=80, n_estimators=10000,\n",
       "                       verbose=1)"
      ]
     },
     "execution_count": 41,
     "metadata": {},
     "output_type": "execute_result"
    }
   ],
   "source": [
    "rf.fit(X_train, y_train)"
   ]
  },
  {
   "cell_type": "code",
   "execution_count": 42,
   "id": "subsequent-jacksonville",
   "metadata": {},
   "outputs": [
    {
     "name": "stderr",
     "output_type": "stream",
     "text": [
      "[Parallel(n_jobs=1)]: Using backend SequentialBackend with 1 concurrent workers.\n",
      "[Parallel(n_jobs=1)]: Done 10000 out of 10000 | elapsed:   13.2s finished\n",
      "[Parallel(n_jobs=1)]: Using backend SequentialBackend with 1 concurrent workers.\n",
      "[Parallel(n_jobs=1)]: Done 10000 out of 10000 | elapsed:    7.4s finished\n",
      "[Parallel(n_jobs=1)]: Using backend SequentialBackend with 1 concurrent workers.\n",
      "[Parallel(n_jobs=1)]: Done 10000 out of 10000 | elapsed:   13.6s finished\n",
      "[Parallel(n_jobs=1)]: Using backend SequentialBackend with 1 concurrent workers.\n",
      "[Parallel(n_jobs=1)]: Done 10000 out of 10000 | elapsed:    7.1s finished\n"
     ]
    }
   ],
   "source": [
    "y_pred_train = rf.predict(X_train)\n",
    "y_pred_test = rf.predict(X_test)\n",
    "y_prob_train = rf.predict_proba(X_train)\n",
    "y_prob_test = rf.predict_proba(X_test)"
   ]
  },
  {
   "cell_type": "code",
   "execution_count": 44,
   "id": "desperate-technique",
   "metadata": {},
   "outputs": [
    {
     "name": "stdout",
     "output_type": "stream",
     "text": [
      "Training group metrics\n",
      "              precision    recall  f1-score       support\n",
      "0              0.860569  0.952505  0.904206  15370.000000\n",
      "1              0.753960  0.485355  0.590549   4609.000000\n",
      "accuracy       0.844737  0.844737  0.844737      0.844737\n",
      "macro avg      0.807265  0.718930  0.747378  19979.000000\n",
      "weighted avg   0.835975  0.844737  0.831848  19979.000000\n",
      "AUC (training): 0.896\n",
      "\n",
      "\n",
      "Testing group metrics\n",
      "              precision    recall  f1-score      support\n",
      "0              0.856357  0.952511  0.901879  7686.000000\n",
      "1              0.746704  0.467014  0.574633  2304.000000\n",
      "accuracy       0.840541  0.840541  0.840541     0.840541\n",
      "macro avg      0.801531  0.709762  0.738256  9990.000000\n",
      "weighted avg   0.831068  0.840541  0.826406  9990.000000\n",
      "AUC (testing): 0.888\n"
     ]
    },
    {
     "name": "stderr",
     "output_type": "stream",
     "text": [
      "[Parallel(n_jobs=1)]: Using backend SequentialBackend with 1 concurrent workers.\n",
      "[Parallel(n_jobs=1)]: Done 10000 out of 10000 | elapsed:    7.0s finished\n"
     ]
    },
    {
     "data": {
      "text/plain": [
       "<sklearn.metrics._plot.roc_curve.RocCurveDisplay at 0x2b20ba22eb8>"
      ]
     },
     "execution_count": 44,
     "metadata": {},
     "output_type": "execute_result"
    },
    {
     "data": {
      "image/png": "[encoded data removed]",
      "text/plain": [
       "<Figure size 432x288 with 1 Axes>"
      ]
     },
     "metadata": {
      "needs_background": "light"
     },
     "output_type": "display_data"
    }
   ],
   "source": [
    "report = classification_report(y_train, y_pred_train, output_dict=True)\n",
    "df_report_train = pd.DataFrame(report).transpose()\n",
    "print('Training group metrics')\n",
    "print(df_report_train)\n",
    "auc_train = roc_auc_score(y_train,y_prob_train[:, 1])\n",
    "print('AUC (training): %.3f'%auc_train)\n",
    "print('\\n')\n",
    "report = classification_report(y_test, y_pred_test, output_dict=True)\n",
    "df_report_test = pd.DataFrame(report).transpose()\n",
    "print('Testing group metrics')\n",
    "print(df_report_test)\n",
    "auc_test = roc_auc_score(y_test,y_prob_test[:, 1])\n",
    "print('AUC (testing): %.3f'%auc_test)\n",
    "plot_roc_curve(rf, X_test, y_test)"
   ]
  },
  {
   "cell_type": "markdown",
   "id": "orange-renewal",
   "metadata": {},
   "source": [
    "### Overall, Random Forest performs quite well\n",
    " 1. Training and testing metrics are very similar, indicating we are not overfitting\n",
    " 2. Overall Accuracy and AUC are above 0.8\n",
    " 3. However we suffer particularly in recall of the >50K class.\n",
    "     * The meaning here is that when the model classified a person as >50K it is usually right (high precision), but it has trouble finding the >50K class in the first place"
   ]
  },
  {
   "cell_type": "code",
   "execution_count": 45,
   "id": "pending-franklin",
   "metadata": {},
   "outputs": [
    {
     "name": "stdout",
     "output_type": "stream",
     "text": [
      "              name  importance\n",
      "1    education-num    0.223075\n",
      "9    pca_marital_1    0.205182\n",
      "11  pca_relation_1    0.152292\n",
      "3     capital-gain    0.086077\n",
      "13  pca_relation_3    0.080925\n",
      "0              age    0.062505\n",
      "10   pca_marital_2    0.059351\n",
      "4     capital-loss    0.042622\n",
      "5   hours-per-week    0.036952\n",
      "12  pca_relation_2    0.034565\n",
      "2              sex    0.005794\n",
      "6       pca_work_1    0.003030\n",
      "8       pca_work_3    0.002988\n",
      "7       pca_work_2    0.002799\n",
      "14      pca_race_1    0.001250\n",
      "15      pca_race_2    0.000595\n"
     ]
    }
   ],
   "source": [
    "# let's look at feature importance as well\n",
    "df_importance = pd.DataFrame({'name':X_final, 'importance':rf.feature_importances_})\n",
    "print(df_importance.sort_values('importance',ascending=False))\n"
   ]
  },
  {
   "cell_type": "markdown",
   "id": "fitted-firewall",
   "metadata": {},
   "source": [
    "## Logistic Regression\n"
   ]
  },
  {
   "cell_type": "code",
   "execution_count": 46,
   "id": "increased-ultimate",
   "metadata": {},
   "outputs": [
    {
     "name": "stdout",
     "output_type": "stream",
     "text": [
      "Optimization terminated successfully.\n",
      "         Current function value: 0.349361\n",
      "         Iterations 8\n",
      "                           Logit Regression Results                           \n",
      "==============================================================================\n",
      "Dep. Variable:                  if_50   No. Observations:                19979\n",
      "Model:                          Logit   Df Residuals:                    19962\n",
      "Method:                           MLE   Df Model:                           16\n",
      "Date:                Sun, 07 Mar 2021   Pseudo R-squ.:                  0.3532\n",
      "Time:                        16:30:17   Log-Likelihood:                -6979.9\n",
      "converged:                       True   LL-Null:                       -10791.\n",
      "Covariance Type:            nonrobust   LLR p-value:                     0.000\n",
      "==================================================================================\n",
      "                     coef    std err          z      P>|z|      [0.025      0.975]\n",
      "----------------------------------------------------------------------------------\n",
      "age                0.0253      0.002     13.084      0.000       0.022       0.029\n",
      "education-num      0.3646      0.010     37.091      0.000       0.345       0.384\n",
      "sex                0.2906      0.085      3.400      0.001       0.123       0.458\n",
      "capital-gain       0.0003   1.51e-05     19.957      0.000       0.000       0.000\n",
      "capital-loss       0.0007   4.53e-05     15.121      0.000       0.001       0.001\n",
      "hours-per-week     0.0298      0.002     15.224      0.000       0.026       0.034\n",
      "pca_work_1        -0.1388      0.040     -3.443      0.001      -0.218      -0.060\n",
      "pca_work_2         0.1607      0.067      2.415      0.016       0.030       0.291\n",
      "pca_work_3         0.2221      0.090      2.473      0.013       0.046       0.398\n",
      "pca_marital_1     -2.1233      0.087    -24.317      0.000      -2.294      -1.952\n",
      "pca_marital_2     -0.5055      0.079     -6.407      0.000      -0.660      -0.351\n",
      "pca_relation_1     0.1708      0.095      1.803      0.071      -0.015       0.356\n",
      "pca_relation_2    -0.4619      0.106     -4.375      0.000      -0.669      -0.255\n",
      "pca_relation_3     0.3059      0.117      2.605      0.009       0.076       0.536\n",
      "pca_race_1        -0.2189      0.059     -3.728      0.000      -0.334      -0.104\n",
      "pca_race_2        -0.0736      0.104     -0.709      0.479      -0.277       0.130\n",
      "intercept         -8.2938      0.182    -45.685      0.000      -8.650      -7.938\n",
      "==================================================================================\n"
     ]
    }
   ],
   "source": [
    "X_log_train = X_train.copy()\n",
    "X_log_train['intercept'] = 1.\n",
    "log_reg_train = sm.Logit(y_train, X_log_train).fit() \n",
    "\n",
    "print(log_reg_train.summary())\n"
   ]
  },
  {
   "cell_type": "markdown",
   "id": "extreme-patent",
   "metadata": {},
   "source": [
    "### z-score rankings are generally aligned with RF feature importances which is a good sign.\n",
    "* Let's use sklearn for more flexibility "
   ]
  },
  {
   "cell_type": "code",
   "execution_count": 47,
   "id": "private-gospel",
   "metadata": {},
   "outputs": [
    {
     "data": {
      "text/plain": [
       "LogisticRegression(max_iter=10000)"
      ]
     },
     "execution_count": 47,
     "metadata": {},
     "output_type": "execute_result"
    }
   ],
   "source": [
    "lr = LogisticRegression(max_iter=10000)\n",
    "lr.fit(X_train, y_train)"
   ]
  },
  {
   "cell_type": "code",
   "execution_count": 48,
   "id": "exclusive-dialogue",
   "metadata": {},
   "outputs": [
    {
     "name": "stdout",
     "output_type": "stream",
     "text": [
      "Training group metrics\n",
      "              precision    recall  f1-score       support\n",
      "0              0.865176  0.928953  0.895931  15370.000000\n",
      "1              0.685846  0.517249  0.589734   4609.000000\n",
      "accuracy       0.833976  0.833976  0.833976      0.833976\n",
      "macro avg      0.775511  0.723101  0.742832  19979.000000\n",
      "weighted avg   0.823806  0.833976  0.825294  19979.000000\n",
      "AUC (training): 0.881\n",
      "\n",
      "\n",
      "Testing group metrics\n",
      "              precision    recall  f1-score      support\n",
      "0              0.863273  0.926620  0.893825  7686.000000\n",
      "1              0.675862  0.510417  0.581602  2304.000000\n",
      "accuracy       0.830631  0.830631  0.830631     0.830631\n",
      "macro avg      0.769567  0.718518  0.737714  9990.000000\n",
      "weighted avg   0.820050  0.830631  0.821817  9990.000000\n",
      "AUC (testing): 0.877\n"
     ]
    },
    {
     "data": {
      "text/plain": [
       "<sklearn.metrics._plot.roc_curve.RocCurveDisplay at 0x2b20bf2b2e8>"
      ]
     },
     "execution_count": 48,
     "metadata": {},
     "output_type": "execute_result"
    },
    {
     "data": {
      "image/png": "[encoded data removed]",
      "text/plain": [
       "<Figure size 432x288 with 1 Axes>"
      ]
     },
     "metadata": {
      "needs_background": "light"
     },
     "output_type": "display_data"
    }
   ],
   "source": [
    "y_pred_train = lr.predict(X_train)\n",
    "y_pred_test = lr.predict(X_test)\n",
    "y_prob_train = lr.predict_proba(X_train)\n",
    "y_prob_test = lr.predict_proba(X_test)\n",
    "\n",
    "report = classification_report(y_train, y_pred_train, output_dict=True)\n",
    "df_report_train = pd.DataFrame(report).transpose()\n",
    "print('Training group metrics')\n",
    "print(df_report_train)\n",
    "auc_train = roc_auc_score(y_train,y_prob_train[:, 1])\n",
    "print('AUC (training): %.3f'%auc_train)\n",
    "print('\\n')\n",
    "report = classification_report(y_test, y_pred_test, output_dict=True)\n",
    "df_report_test = pd.DataFrame(report).transpose()\n",
    "print('Testing group metrics')\n",
    "print(df_report_test)\n",
    "auc_test = roc_auc_score(y_test,y_prob_test[:, 1])\n",
    "print('AUC (testing): %.3f'%auc_test)\n",
    "plot_roc_curve(lr, X_test, y_test)"
   ]
  },
  {
   "cell_type": "markdown",
   "id": "radical-twelve",
   "metadata": {},
   "source": [
    "Interestingly, we improve our recall at the cost of precision and F1 improves slightly."
   ]
  },
  {
   "cell_type": "markdown",
   "id": "respected-terror",
   "metadata": {},
   "source": [
    "# Summary\n",
    "* Cleaned data of outliers and missing values, removing ~8% of observations\n",
    "* We used PCA to reduce dimensionality of some high-number categorical features (workclass, marital-status, occupation, relationship, race) to reduce variance and improve modeling performance\n",
    "    * This step also makes the results less transparency since PCs are not intuitive features. More analysis could be done to find which variables are most strongly correlated with what PCs and could even do some cluster visualization to provide further insight\n",
    "* We used both Random Forest and Logistic Regression as classifiers\n",
    "    * Both performed quite well, with some noticeable recall/precision differences\n",
    "    * RF can find non-linear relationships between the variables which LR may not pick up on\n",
    "    * However LR can provide more interpretable results and give insights into the scaling effects of each variable\n",
    "    * In general, LR requires more care and further digging into data to ensure collinearities are not present as one example (something partially accomplished with PCA)\n",
    "    * RF also requires more computing power and hyperparameter tuning than LR"
   ]
  }
 ],
 "metadata": {
  "kernelspec": {
   "display_name": "Python 3",
   "language": "python",
   "name": "python3"
  },
  "language_info": {
   "codemirror_mode": {
    "name": "ipython",
    "version": 3
   },
   "file_extension": ".py",
   "mimetype": "text/x-python",
   "name": "python",
   "nbconvert_exporter": "python",
   "pygments_lexer": "ipython3",
   "version": "3.6.8"
  }
 },
 "nbformat": 4,
 "nbformat_minor": 5
}
